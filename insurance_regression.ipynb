{
 "cells": [
  {
   "cell_type": "code",
   "execution_count": null,
   "id": "e765c835-28d8-4f6e-9728-44ef40cc0f56",
   "metadata": {},
   "outputs": [],
   "source": [
    "import numpy as np  \n",
    "import matplotlib.pyplot as mtp  \n",
    "import pandas as pd\n",
    "from sklearn.model_selection import train_test_split\n",
    "from sklearn.linear_model import LinearRegression\n",
    "from sklearn.metrics import mean_squared_error, r2_score\n",
    "\n",
    "# Load the insurance dataset\n",
    "insurance_data = pd.read_csv('/mnt/data/insurance.csv')\n",
    "\n",
    "# Preview the dataset to understand its structure\n",
    "print(insurance_data.head())\n",
    "\n",
    "# Choosing 'bmi' as the feature and 'charges' as the target\n",
    "X = insurance_data[['bmi']].values\n",
    "y = insurance_data['charges'].values\n",
    "\n",
    "# Splitting the dataset into training and testing sets\n",
    "x_train, x_test, y_train, y_test = train_test_split(X, y, test_size=1/3, random_state=0)\n",
    "\n",
    "# Fitting the Linear Regression model\n",
    "regressor = LinearRegression()\n",
    "regressor.fit(x_train, y_train)\n",
    "\n",
    "# Predicting the results for both training and testing sets\n",
    "y_pred = regressor.predict(x_test)\n",
    "x_pred = regressor.predict(x_train)\n",
    "\n",
    "# Plotting the training data\n",
    "mtp.scatter(x_train, y_train, color=\"green\")\n",
    "mtp.plot(x_train, x_pred, color=\"red\")\n",
    "mtp.title(\"Linear Regression on Insurance Dataset (Training Set)\")\n",
    "mtp.xlabel(\"BMI\")\n",
    "mtp.ylabel(\"Charges\")\n",
    "mtp.show()\n",
    "\n",
    "# Plotting the test data\n",
    "mtp.scatter(x_test, y_test, color=\"blue\")\n",
    "mtp.plot(x_train, x_pred, color=\"red\")\n",
    "mtp.title(\"Linear Regression on Insurance Dataset (Test Set)\")\n",
    "mtp.xlabel(\"BMI\")\n",
    "mtp.ylabel(\"Charges\")\n",
    "mtp.show()\n",
    "\n",
    "# Printing the coefficients and intercept\n",
    "print('Coefficients:', regressor.coef_)\n",
    "print('Intercept:', regressor.intercept_)\n",
    "\n",
    "# Calculating and printing the Mean Squared Error and R^2 Score\n",
    "mse = mean_squared_error(y_test, y_pred)\n",
    "r2 = r2_score(y_test, y_pred)\n",
    "\n",
    "print('Mean Squared Error:', mse)\n",
    "print('Coefficient of Determination (R^2 Score):', r2)\n"
   ]
  }
 ],
 "metadata": {
  "kernelspec": {
   "display_name": "Python 3 (ipykernel)",
   "language": "python",
   "name": "python3"
  },
  "language_info": {
   "codemirror_mode": {
    "name": "ipython",
    "version": 3
   },
   "file_extension": ".py",
   "mimetype": "text/x-python",
   "name": "python",
   "nbconvert_exporter": "python",
   "pygments_lexer": "ipython3",
   "version": "3.12.5"
  }
 },
 "nbformat": 4,
 "nbformat_minor": 5
}
